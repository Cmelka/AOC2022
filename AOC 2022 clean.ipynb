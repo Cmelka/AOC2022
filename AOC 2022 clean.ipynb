{
 "cells": [
  {
   "cell_type": "code",
   "execution_count": 2,
   "id": "cceb76c8",
   "metadata": {},
   "outputs": [],
   "source": [
    "import pandas as pd\n",
    "import numpy as np"
   ]
  },
  {
   "cell_type": "markdown",
   "id": "25c312a7",
   "metadata": {},
   "source": [
    "# Day 5"
   ]
  },
  {
   "cell_type": "code",
   "execution_count": 6,
   "id": "fd84dea1",
   "metadata": {},
   "outputs": [],
   "source": [
    "crates=pd.read_csv('AOC_input_05_crates',header=None)\n",
    "df_brut=pd.read_csv('AOC_input_05_proc',header=None)\n",
    "df=df_brut[0].str.split(expand=True)\n",
    "df=df[[1,3,5]].rename(columns={1:'qty',3:'from',5:'to'}).astype(int)\n",
    "#print(crates)\n",
    "#print(df_brut.head())\n",
    "#print(df.head())"
   ]
  },
  {
   "cell_type": "code",
   "execution_count": 4,
   "id": "741cd55a",
   "metadata": {},
   "outputs": [
    {
     "name": "stdout",
     "output_type": "stream",
     "text": [
      "QGTHFZBHV\n"
     ]
    }
   ],
   "source": [
    "#version CrateMover 9000\n",
    "for i in range(0,len(df.index)):\n",
    "    #identification de départ\n",
    "    fr=crates.loc[df.iloc[i,1]-1,0]\n",
    "    #identification de l'arrivée\n",
    "    to=crates.loc[df.iloc[i,2]-1,0]\n",
    "    #compteur de déplacement\n",
    "    q=df.iloc[i,0]\n",
    "    #boucle de déplacement\n",
    "    while q>0:\n",
    "        cr=fr[-1]\n",
    "        fr=fr[:-1]\n",
    "        to=to+cr\n",
    "        crates.loc[df.iloc[i,1]-1,0]=fr\n",
    "        crates.loc[df.iloc[i,2]-1,0]=to\n",
    "        q-=1\n",
    "\n",
    "#resultat\n",
    "rt=''\n",
    "for i in range(0,len(crates.index)):\n",
    "    rt=rt+crates.loc[i,0][-1]\n",
    "print(rt)"
   ]
  },
  {
   "cell_type": "code",
   "execution_count": 7,
   "id": "1448481a",
   "metadata": {},
   "outputs": [
    {
     "name": "stdout",
     "output_type": "stream",
     "text": [
      "MGDMPSZTM\n"
     ]
    }
   ],
   "source": [
    "#version CrateMover 9001\n",
    "for i in range(0,len(df.index)):\n",
    "    #identification de départ\n",
    "    fr=crates.loc[df.iloc[i,1]-1,0]\n",
    "    #identification de l'arrivée\n",
    "    to=crates.loc[df.iloc[i,2]-1,0]\n",
    "    #compteur de déplacement\n",
    "    q=df.iloc[i,0]\n",
    "    #boucle de déplacement\n",
    "    cr=fr[-q:]\n",
    "    fr=fr[:-q]\n",
    "    to=to+cr\n",
    "    crates.loc[df.iloc[i,1]-1,0]=fr\n",
    "    crates.loc[df.iloc[i,2]-1,0]=to\n",
    "    \n",
    "#resultat\n",
    "rt=''\n",
    "for i in range(0,len(crates.index)):\n",
    "     if len(crates.loc[i,0])>0: \n",
    "        rt=rt+crates.loc[i,0][-1]\n",
    "print(rt)"
   ]
  },
  {
   "cell_type": "markdown",
   "id": "b5751f48",
   "metadata": {},
   "source": [
    "# Day 4"
   ]
  },
  {
   "cell_type": "code",
   "execution_count": 8,
   "id": "70cd115a",
   "metadata": {},
   "outputs": [],
   "source": [
    "df=pd.read_csv('AOC_input_04',header=None)\n",
    "#print(df)\n",
    "df_a=df[0].str.split('-',expand=True)\n",
    "df_c=df[1].str.split('-',expand=True).rename(columns={0:2,1:3})\n",
    "df=pd.concat([df_a,df_c],axis=1).astype(int)\n",
    "#print(df)"
   ]
  },
  {
   "cell_type": "code",
   "execution_count": 9,
   "id": "81484e12",
   "metadata": {},
   "outputs": [
    {
     "name": "stdout",
     "output_type": "stream",
     "text": [
      "485\n"
     ]
    }
   ],
   "source": [
    "df['t1']=df[0]-df[2]\n",
    "df['t2']=df[1]-df[3]\n",
    "\n",
    "#On filtre sur les lignes pour lesquelles t1 et t2 n'ont pas le même sens\n",
    "print(df[((df['t1']<=0) & (df['t2']>=0)) | ((df['t1']>=0) & (df['t2']<=0))].count()[0])"
   ]
  },
  {
   "cell_type": "code",
   "execution_count": 10,
   "id": "eba9141e",
   "metadata": {},
   "outputs": [
    {
     "name": "stdout",
     "output_type": "stream",
     "text": [
      "857\n"
     ]
    }
   ],
   "source": [
    "#On filtre sur les lignes pour lesquelles 0 ou 1 sont dans l'intervalle 2-3 ou pour lesquelles 2 ou 3 sont dans l'intervalle 0-1\n",
    "print(df[(((df[0]>=df[2]) & (df[0]<=df[3])) | ((df[1]>=df[2]) & (df[1]<=df[3])))\n",
    "         |\n",
    "         (((df[2]>=df[0]) & (df[2]<=df[1])) | ((df[3]>=df[0]) & (df[3]<=df[1])))         \n",
    "        ].count()[0])"
   ]
  },
  {
   "cell_type": "markdown",
   "id": "82d020aa",
   "metadata": {},
   "source": [
    "# Day 3"
   ]
  },
  {
   "cell_type": "code",
   "execution_count": 5,
   "id": "77655b72",
   "metadata": {},
   "outputs": [],
   "source": [
    "df=pd.read_csv('AOC_input_03',header=None)\n",
    "#print(df)"
   ]
  },
  {
   "cell_type": "code",
   "execution_count": 6,
   "id": "e1237233",
   "metadata": {},
   "outputs": [
    {
     "name": "stdout",
     "output_type": "stream",
     "text": [
      "8176\n"
     ]
    }
   ],
   "source": [
    "total=0\n",
    "for line in df[0]:\n",
    "\n",
    "    #division de sac\n",
    "    sac=len(line) #longueur de chaîne (sac)\n",
    "    comp1=line[:sac//2] #poche gauche //=division ENTIERE (indispensable pour le slicing)\n",
    "    comp2=line[sac//2:] #poche droite\n",
    "    #print(comp1,comp2)\n",
    "\n",
    "    #comparaison des poches\n",
    "    for item in comp1:\n",
    "        if comp2.count(item)>0:\n",
    "            boo=item\n",
    "            \n",
    "    #traduction de priorité de l'item\n",
    "    if boo.isupper()==True: \n",
    "        total=total+ord(boo)-38\n",
    "    else:\n",
    "        total=total+ord(boo)-96\n",
    "print(total)  "
   ]
  },
  {
   "cell_type": "code",
   "execution_count": null,
   "id": "ae2f023b",
   "metadata": {},
   "outputs": [],
   "source": [
    "total=0\n",
    "for i in range(0,300,3):\n",
    "    sac1=df[i:i+1].iloc(0)[0].astype(str)\n",
    "    sac2=df[i+1:i+2].iloc(0)[0].astype(str)\n",
    "    sac3=df[i+2:i+3].iloc(0)[0].astype(str)\n",
    "\n",
    "#comparaison du contenu des sacs\n",
    "    for item in sac1[0]:\n",
    "        if item in sac2[0]:\n",
    "            if item in sac3[0]:\n",
    "                boo=item\n",
    "    \n",
    "    #traduction de priorité de l'item\n",
    "    if boo.isupper()==True: \n",
    "        total=total+ord(boo)-38\n",
    "    else:\n",
    "        total=total+ord(boo)-96\n",
    "print(total)"
   ]
  },
  {
   "cell_type": "markdown",
   "id": "90267a5d",
   "metadata": {},
   "source": [
    "# Day 2"
   ]
  },
  {
   "cell_type": "code",
   "execution_count": 2,
   "id": "8ce4e0b1",
   "metadata": {},
   "outputs": [],
   "source": [
    "filename = 'AOC_input_02'\n",
    "data = np.loadtxt(filename, skiprows=0, dtype=str)\n",
    "#print(data)"
   ]
  },
  {
   "cell_type": "code",
   "execution_count": 3,
   "id": "5948d276",
   "metadata": {},
   "outputs": [
    {
     "name": "stdout",
     "output_type": "stream",
     "text": [
      "12645\n"
     ]
    }
   ],
   "source": [
    "#A/B/C=X/Y/Z=rock/paper/ciseaux\n",
    "#ABC = choix de l'adversaire\n",
    "#XYZ = mon choix\n",
    "\n",
    "points_main={'X':1,'Y':2,'Z':3}\n",
    "score=0\n",
    "for match in data:\n",
    "    main=points_main[match[1]]\n",
    "    if match[0]=='A':\n",
    "        if match[1]=='Y':\n",
    "            rt=6\n",
    "        elif match[1]=='X':\n",
    "            rt=3\n",
    "        else:\n",
    "            rt=0\n",
    "    elif match[0]=='B':\n",
    "        if match[1]=='Z':\n",
    "            rt=6\n",
    "        elif match[1]=='Y':\n",
    "            rt=3\n",
    "        else:\n",
    "            rt=0\n",
    "    else:\n",
    "        if match[1]=='X':\n",
    "            rt=6\n",
    "        elif match[1]=='Z':\n",
    "            rt=3\n",
    "        else:\n",
    "            rt=0\n",
    "    score_match=rt+main\n",
    "    score=score+score_match\n",
    "print(score)  "
   ]
  },
  {
   "cell_type": "code",
   "execution_count": 4,
   "id": "851d30f7",
   "metadata": {},
   "outputs": [
    {
     "name": "stdout",
     "output_type": "stream",
     "text": [
      "11756\n"
     ]
    }
   ],
   "source": [
    "#A/B/C=rock/paper/ciseaux\n",
    "#XYZ = lose/draw/win\n",
    "#ABC = choix de l'adversaire\n",
    "\n",
    "points_match={'X':0,'Y':3,'Z':6}\n",
    "score=0\n",
    "for match in data:\n",
    "    main=points_match[match[1]]\n",
    "    if match[0]=='A':\n",
    "        if match[1]=='X':\n",
    "            rt=3\n",
    "        elif match[1]=='Y':\n",
    "            rt=1\n",
    "        else:\n",
    "            rt=2\n",
    "    elif match[0]=='B':\n",
    "        if match[1]=='X':\n",
    "            rt=1\n",
    "        elif match[1]=='Y':\n",
    "            rt=2\n",
    "        else:\n",
    "            rt=3\n",
    "    else:\n",
    "        if match[1]=='X':\n",
    "            rt=2\n",
    "        elif match[1]=='Y':\n",
    "            rt=3\n",
    "        else:\n",
    "            rt=1\n",
    "    score_match=rt+main\n",
    "    score=score+score_match\n",
    "print(score) "
   ]
  },
  {
   "cell_type": "markdown",
   "id": "6c01e828",
   "metadata": {},
   "source": [
    "# Day 1"
   ]
  },
  {
   "cell_type": "code",
   "execution_count": 2,
   "id": "3bd60701",
   "metadata": {},
   "outputs": [],
   "source": [
    "df=pd.read_csv('AOC_input_01',skip_blank_lines=False,header=None)\n",
    "#print(df)"
   ]
  },
  {
   "cell_type": "code",
   "execution_count": 3,
   "id": "ebbf3f73",
   "metadata": {},
   "outputs": [
    {
     "name": "stdout",
     "output_type": "stream",
     "text": [
      "68787.0\n"
     ]
    }
   ],
   "source": [
    "#on remplace les NaN par 0 qui servira de séparateur des elfes (plus simple à gérer que NaN ;)\n",
    "df=df.fillna(value=0)\n",
    "# recherche de l'elf avec le nombre max de calories\n",
    "cal_max=0\n",
    "cal_elf=0\n",
    "for ligne in df[0]:\n",
    "    if ligne>0:\n",
    "        cal_elf=cal_elf+ligne\n",
    "    else:\n",
    "        if cal_elf>cal_max:\n",
    "            cal_max=cal_elf\n",
    "            cal_elf=0\n",
    "        else:\n",
    "            cal_elf=0\n",
    "print(cal_max)"
   ]
  },
  {
   "cell_type": "code",
   "execution_count": 4,
   "id": "303a432b",
   "metadata": {},
   "outputs": [
    {
     "name": "stdout",
     "output_type": "stream",
     "text": [
      "198041.0\n"
     ]
    }
   ],
   "source": [
    "cal_1=0 #max\n",
    "cal_2=0 #n°2\n",
    "cal_3=0 #n°3\n",
    "cal_elf=0\n",
    "for ligne in df[0]:\n",
    "    if ligne>0:\n",
    "        cal_elf=cal_elf+ligne\n",
    "    else:\n",
    "        if cal_elf>cal_1:\n",
    "            cal_3=cal_2\n",
    "            cal_2=cal_1\n",
    "            cal_1=cal_elf\n",
    "            cal_elf=0\n",
    "        elif cal_elf>cal_2:\n",
    "            cal_3=cal_2\n",
    "            cal_2=cal_elf\n",
    "            cal_elf=0\n",
    "        elif cal_elf>cal_3:\n",
    "            cal_3=cal_elf\n",
    "            cal_elf=0\n",
    "        else:\n",
    "            cal_elf=0\n",
    "print(cal_1+cal_2+cal_3)  "
   ]
  }
 ],
 "metadata": {
  "kernelspec": {
   "display_name": "Python 3 (ipykernel)",
   "language": "python",
   "name": "python3"
  },
  "language_info": {
   "codemirror_mode": {
    "name": "ipython",
    "version": 3
   },
   "file_extension": ".py",
   "mimetype": "text/x-python",
   "name": "python",
   "nbconvert_exporter": "python",
   "pygments_lexer": "ipython3",
   "version": "3.11.0"
  }
 },
 "nbformat": 4,
 "nbformat_minor": 5
}
