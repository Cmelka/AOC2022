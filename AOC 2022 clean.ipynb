{
 "cells": [
  {
   "cell_type": "code",
   "execution_count": 1,
   "id": "cceb76c8",
   "metadata": {},
   "outputs": [],
   "source": [
    "import pandas as pd\n",
    "import numpy as np"
   ]
  },
  {
   "cell_type": "markdown",
   "id": "82d020aa",
   "metadata": {},
   "source": [
    "# Day 1"
   ]
  },
  {
   "cell_type": "code",
   "execution_count": null,
   "id": "77655b72",
   "metadata": {},
   "outputs": [],
   "source": [
    "#a refaire..."
   ]
  },
  {
   "cell_type": "markdown",
   "id": "90267a5d",
   "metadata": {},
   "source": [
    "# Day 2"
   ]
  },
  {
   "cell_type": "code",
   "execution_count": 2,
   "id": "8ce4e0b1",
   "metadata": {},
   "outputs": [],
   "source": [
    "filename = 'AOC_input_02'\n",
    "data = np.loadtxt(filename, skiprows=0, dtype=str)\n",
    "#print(data)"
   ]
  },
  {
   "cell_type": "code",
   "execution_count": 3,
   "id": "5948d276",
   "metadata": {},
   "outputs": [
    {
     "name": "stdout",
     "output_type": "stream",
     "text": [
      "12645\n"
     ]
    }
   ],
   "source": [
    "#A/B/C=X/Y/Z=rock/paper/ciseaux\n",
    "#ABC = choix de l'adversaire\n",
    "#XYZ = mon choix\n",
    "\n",
    "points_main={'X':1,'Y':2,'Z':3}\n",
    "score=0\n",
    "for match in data:\n",
    "    main=points_main[match[1]]\n",
    "    if match[0]=='A':\n",
    "        if match[1]=='Y':\n",
    "            rt=6\n",
    "        elif match[1]=='X':\n",
    "            rt=3\n",
    "        else:\n",
    "            rt=0\n",
    "    elif match[0]=='B':\n",
    "        if match[1]=='Z':\n",
    "            rt=6\n",
    "        elif match[1]=='Y':\n",
    "            rt=3\n",
    "        else:\n",
    "            rt=0\n",
    "    else:\n",
    "        if match[1]=='X':\n",
    "            rt=6\n",
    "        elif match[1]=='Z':\n",
    "            rt=3\n",
    "        else:\n",
    "            rt=0\n",
    "    score_match=rt+main\n",
    "    score=score+score_match\n",
    "print(score)  "
   ]
  },
  {
   "cell_type": "code",
   "execution_count": 4,
   "id": "851d30f7",
   "metadata": {},
   "outputs": [
    {
     "name": "stdout",
     "output_type": "stream",
     "text": [
      "11756\n"
     ]
    }
   ],
   "source": [
    "#A/B/C=rock/paper/ciseaux\n",
    "#XYZ = lose/draw/win\n",
    "#ABC = choix de l'adversaire\n",
    "\n",
    "points_match={'X':0,'Y':3,'Z':6}\n",
    "score=0\n",
    "for match in data:\n",
    "    main=points_match[match[1]]\n",
    "    if match[0]=='A':\n",
    "        if match[1]=='X':\n",
    "            rt=3\n",
    "        elif match[1]=='Y':\n",
    "            rt=1\n",
    "        else:\n",
    "            rt=2\n",
    "    elif match[0]=='B':\n",
    "        if match[1]=='X':\n",
    "            rt=1\n",
    "        elif match[1]=='Y':\n",
    "            rt=2\n",
    "        else:\n",
    "            rt=3\n",
    "    else:\n",
    "        if match[1]=='X':\n",
    "            rt=2\n",
    "        elif match[1]=='Y':\n",
    "            rt=3\n",
    "        else:\n",
    "            rt=1\n",
    "    score_match=rt+main\n",
    "    score=score+score_match\n",
    "print(score) "
   ]
  }
 ],
 "metadata": {
  "kernelspec": {
   "display_name": "Python 3 (ipykernel)",
   "language": "python",
   "name": "python3"
  },
  "language_info": {
   "codemirror_mode": {
    "name": "ipython",
    "version": 3
   },
   "file_extension": ".py",
   "mimetype": "text/x-python",
   "name": "python",
   "nbconvert_exporter": "python",
   "pygments_lexer": "ipython3",
   "version": "3.11.0"
  }
 },
 "nbformat": 4,
 "nbformat_minor": 5
}
